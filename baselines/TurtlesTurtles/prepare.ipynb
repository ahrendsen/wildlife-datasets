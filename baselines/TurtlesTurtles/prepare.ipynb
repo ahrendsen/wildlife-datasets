{
 "cells": [
  {
   "cell_type": "code",
   "execution_count": null,
   "id": "da5090a0",
   "metadata": {},
   "outputs": [],
   "source": [
    "import sys\n",
    "sys.path.append('..')\n",
    "import os\n",
    "from wildlife_datasets.datasets import SeaTurtleID2022\n",
    "\n",
    "folder0 = '../data/TurtlesTurtles'\n",
    "folder1 = f'{folder0}/heads'\n",
    "folder2 = f'{folder0}/bodies'\n",
    "\n",
    "os.makedirs(folder0, exist_ok=True)\n",
    "os.makedirs(folder1, exist_ok=True)\n",
    "os.makedirs(folder2, exist_ok=True)"
   ]
  },
  {
   "cell_type": "code",
   "execution_count": 2,
   "id": "cf8c8742",
   "metadata": {},
   "outputs": [],
   "source": [
    "d = SeaTurtleID2022('/data/wildlife_datasets/data/SeaTurtleID2022', img_load='bbox')\n",
    "d = d.get_subset(~d.df['bbox'].isnull())\n",
    "d.df['width'] = d.df['bbox'].apply(lambda x: int(x[2]))\n",
    "d.df['height'] = d.df['bbox'].apply(lambda x: int(x[3]))\n",
    "d.df['path'] = d.df['path'].apply(lambda x: x.split('/')[-1].lower())\n",
    "d.df = d.df.drop(['segmentation', 'original_split', 'bbox'], axis=1)\n",
    "d.df.to_csv(f'{folder0}/metadata.csv', index=False)"
   ]
  },
  {
   "cell_type": "code",
   "execution_count": 3,
   "id": "d01c53b0",
   "metadata": {},
   "outputs": [],
   "source": [
    "d1 = SeaTurtleID2022('/data/wildlife_datasets/data/SeaTurtleID2022', img_load='bbox')\n",
    "d2 = SeaTurtleID2022('/data/wildlife_datasets/data/SeaTurtleID2022', category_name='turtle', img_load='bbox')\n",
    "\n",
    "d1 = d1.get_subset(~d1.df['bbox'].isnull())\n",
    "d2 = d2.get_subset(d2.df['path'].isin(d1.df['path']))\n",
    "d2 = d2.get_subset(d2.df.drop_duplicates(subset=['path']).index)\n",
    "for col in ['path', 'identity', 'date', 'clarity']:\n",
    "    if not d1.df[col].equals(d2.df[col]):\n",
    "        raise Exception(f'column {col} not equal')\n",
    "if not d1.df.index.equals(d2.df.index):\n",
    "    raise Exception('index not equal')"
   ]
  },
  {
   "cell_type": "code",
   "execution_count": 4,
   "id": "adcb574e",
   "metadata": {},
   "outputs": [],
   "source": [
    "for i in range(len(d1)):\n",
    "    file_name = d1.df['path'].iloc[i].split('/')[-1].lower()\n",
    "    d1[i].save(f'{folder1}/{file_name}')\n",
    "    d2[i].save(f'{folder2}/{file_name}')"
   ]
  }
 ],
 "metadata": {
  "kernelspec": {
   "display_name": "venv",
   "language": "python",
   "name": "python3"
  },
  "language_info": {
   "codemirror_mode": {
    "name": "ipython",
    "version": 3
   },
   "file_extension": ".py",
   "mimetype": "text/x-python",
   "name": "python",
   "nbconvert_exporter": "python",
   "pygments_lexer": "ipython3",
   "version": "3.10.12"
  }
 },
 "nbformat": 4,
 "nbformat_minor": 5
}
